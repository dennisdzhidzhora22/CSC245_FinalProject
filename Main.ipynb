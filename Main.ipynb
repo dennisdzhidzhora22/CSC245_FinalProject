{
 "cells": [
  {
   "cell_type": "code",
   "id": "initial_id",
   "metadata": {
    "collapsed": true,
    "ExecuteTime": {
     "end_time": "2025-05-17T20:31:08.706480Z",
     "start_time": "2025-05-17T20:31:06.354814Z"
    }
   },
   "source": [
    "# Goal: Predict the win rate of a team/combination of agents given minimal data\n",
    "# such as statistics for the first few rounds (or just the team composition)\n",
    "\n",
    "import numpy as np\n",
    "import pandas as pd\n",
    "import matplotlib.pyplot as plt\n",
    "from sqlalchemy import create_engine\n",
    "\n",
    "engine = create_engine(\"sqlite:///data/valorant.sqlite\")\n",
    "\n",
    "scoreboard = pd.read_sql_table(\"Game_Scoreboard\", con=engine)\n",
    "rounds = pd.read_sql_table(\"Game_Rounds\", con=engine)\n",
    "games = pd.read_sql_table(\"Games\", con=engine)\n",
    "\n",
    "engine.dispose()"
   ],
   "outputs": [],
   "execution_count": 95
  },
  {
   "metadata": {
    "ExecuteTime": {
     "end_time": "2025-05-17T20:31:11.230503Z",
     "start_time": "2025-05-17T20:31:11.201818Z"
    }
   },
   "cell_type": "code",
   "source": [
    "print(\"Scoreboard:\")\n",
    "print(scoreboard.head())\n",
    "print(\"Rounds:\")\n",
    "print(rounds.head())\n",
    "print(\"Games:\")\n",
    "print(games.head())"
   ],
   "id": "7330ffa8820d859c",
   "outputs": [
    {
     "name": "stdout",
     "output_type": "stream",
     "text": [
      "Scoreboard:\n",
      "  GameID PlayerID PlayerName TeamAbbreviation    Agent    ACS  Kills  Deaths  \\\n",
      "0  60894     8419     Reduxx             Boos     jett  313.0   24.0    10.0   \n",
      "1  60894      466     ChurmZ             Boos  chamber  227.0   16.0    10.0   \n",
      "2  60894     3712   diaamond             Boos     sova  226.0   17.0     9.0   \n",
      "3  60894     5099     Boltzy             Boos    viper  218.0   17.0    12.0   \n",
      "4  60894     3983     Virtyy             Boos     skye   80.0    5.0    13.0   \n",
      "\n",
      "   Assists  PlusMinus  ...  Num_4Ks  Num_5Ks  OnevOne  OnevTwo  OnevThree  \\\n",
      "0      3.0       14.0  ...      2.0      0.0      1.0      0.0        0.0   \n",
      "1      7.0        6.0  ...      0.0      0.0      0.0      0.0        0.0   \n",
      "2      8.0        8.0  ...      0.0      0.0      1.0      0.0        0.0   \n",
      "3      2.0        5.0  ...      0.0      0.0      1.0      0.0        0.0   \n",
      "4      3.0       -8.0  ...      0.0      0.0      0.0      0.0        0.0   \n",
      "\n",
      "   OnevFour  OnevFive  Econ  Plants  Defuses  \n",
      "0       0.0       0.0  74.0     0.0      0.0  \n",
      "1       0.0       0.0  67.0     2.0      0.0  \n",
      "2       0.0       0.0  58.0     3.0      0.0  \n",
      "3       0.0       0.0  48.0     0.0      0.0  \n",
      "4       0.0       0.0  21.0     0.0      0.0  \n",
      "\n",
      "[5 rows x 28 columns]\n",
      "Rounds:\n",
      "  GameID  Team1ID  Team2ID                                       RoundHistory\n",
      "0  60894     6903     6020  {1: {'RoundWinner': 'BOOS', 'ScoreAfterRound':...\n",
      "1  60895     6903     6020  {1: {'RoundWinner': 'PHO ', 'ScoreAfterRound':...\n",
      "2  60896     6903     6020  {1: {'RoundWinner': 'PHO ', 'ScoreAfterRound':...\n",
      "3  60924     7046     7047  {1: {'RoundWinner': 'BJOR', 'ScoreAfterRound':...\n",
      "4  60925     7046     7047  {1: {'RoundWinner': 'BJOR', 'ScoreAfterRound':...\n",
      "Games:\n",
      "  GameID MatchID     Map  Team1ID  Team2ID                Team1     Team2  \\\n",
      "0  60894   62393  Breeze     6903     6020  Booster Seat Gaming  Pho Real   \n",
      "1  60895   62393    Bind     6903     6020  Booster Seat Gaming  Pho Real   \n",
      "2  60896   62393   Haven     6903     6020  Booster Seat Gaming  Pho Real   \n",
      "3  60924   62403  Icebox     7046     7047       Bjor's Kittens  Mugiwara   \n",
      "4  60925   62403   Haven     7046     7047       Bjor's Kittens  Mugiwara   \n",
      "\n",
      "                Winner  Team1_TotalRounds  Team2_TotalRounds  ...  \\\n",
      "0  Booster Seat Gaming                 13                  7  ...   \n",
      "1             Pho Real                  2                 13  ...   \n",
      "2  Booster Seat Gaming                 13                  8  ...   \n",
      "3       Bjor's Kittens                 13                  6  ...   \n",
      "4       Bjor's Kittens                 13                  9  ...   \n",
      "\n",
      "  Team1_FullBuyWon Team2_PistolWon  Team2_Eco  Team2_EcoWon  Team2_SemiEco  \\\n",
      "0              8.0             0.0        4.0           0.0            2.0   \n",
      "1              1.0             2.0        2.0           2.0            0.0   \n",
      "2              9.0             1.0        2.0           1.0            2.0   \n",
      "3              8.0             0.0        4.0           0.0            1.0   \n",
      "4             11.0             1.0        3.0           2.0            3.0   \n",
      "\n",
      "   Team2_SemiEcoWon  Team2_SemiBuy  Team2_SemiBuyWon  Team2_FullBuy  \\\n",
      "0               0.0            4.0               1.0           10.0   \n",
      "1               0.0            4.0               3.0            9.0   \n",
      "2               0.0            6.0               2.0           11.0   \n",
      "3               0.0            2.0               1.0           12.0   \n",
      "4               0.0            4.0               3.0           12.0   \n",
      "\n",
      "   Team2_FullBuyWon  \n",
      "0               6.0  \n",
      "1               8.0  \n",
      "2               5.0  \n",
      "3               5.0  \n",
      "4               4.0  \n",
      "\n",
      "[5 rows x 36 columns]\n"
     ]
    }
   ],
   "execution_count": 96
  },
  {
   "metadata": {},
   "cell_type": "markdown",
   "source": "__Small-scale test for win-rate based on team composition:__",
   "id": "2390b7cde640c8eb"
  },
  {
   "metadata": {
    "ExecuteTime": {
     "end_time": "2025-05-17T20:31:17.348239Z",
     "start_time": "2025-05-17T20:31:17.223504Z"
    }
   },
   "cell_type": "code",
   "source": [
    "# Desired DataFrame structure:\n",
    "# Index: GameID, Columns: Team1, Team1 agents, Team2, Team2 agents, Winner\n",
    "\n",
    "print(len(scoreboard))\n",
    "#scoreboard_grouped = scoreboard.copy().groupby('GameID')\n",
    "game_ids_s = scoreboard['GameID'].unique()\n",
    "print(len(game_ids_s))\n",
    "#print(len(scoreboard_grouped))\n",
    "print(\"------\")\n",
    "print(len(rounds))\n",
    "print(\"------\")\n",
    "\n",
    "games = games[games['GameID'].isin(game_ids_s)]\n",
    "\n",
    "game_ids_g = games['GameID'].unique()\n",
    "scoreboard = scoreboard[scoreboard['GameID'].isin(game_ids_g)]\n",
    "\n",
    "print(len(scoreboard))\n",
    "print(len(games))\n",
    "#print(scoreboard.head())"
   ],
   "id": "52fadce9d657f53a",
   "outputs": [
    {
     "name": "stdout",
     "output_type": "stream",
     "text": [
      "157939\n",
      "15878\n",
      "------\n",
      "15531\n",
      "------\n",
      "157939\n",
      "15878\n"
     ]
    }
   ],
   "execution_count": 97
  },
  {
   "metadata": {
    "ExecuteTime": {
     "end_time": "2025-05-17T20:30:45.391722Z",
     "start_time": "2025-05-17T20:30:44.546866Z"
    }
   },
   "cell_type": "code",
   "source": [
    "# Step 1: Group agents by GameID and TeamAbbreviation into sets\n",
    "team_compositions = pd.pivot_table(\n",
    "    scoreboard,\n",
    "    values='Agent',  # The column containing the agents\n",
    "    index=['GameID', 'TeamAbbreviation'],  # Rows will be grouped by GameID and TeamID\n",
    "    aggfunc=lambda x: set(x)  # Combine agent names into a set for each team\n",
    ")\n",
    "\n",
    "# Filter GameIDs with exactly two teams\n",
    "team_counts = team_compositions.groupby(level='GameID').size()\n",
    "valid_game_ids = team_counts[team_counts == 2].index\n",
    "team_compositions = team_compositions.loc[valid_game_ids]\n",
    "\n",
    "# Step 2: For each GameID, convert team abbreviation to full team name\n",
    "teams = games[['GameID', 'Team1', 'Team2', 'Winner']]\n",
    "team_map = games.set_index(\"GameID\")[[\"Team1\", \"Team2\"]]\n",
    "\n",
    "merged = team_compositions.merge(games, how=\"left\", on=\"GameID\")\n",
    "\n",
    "# Step 2: Assign positions in each group by GameID\n",
    "merged[\"RowPosition\"] = merged.groupby(\"GameID\").cumcount()\n",
    "\n",
    "# Step 3: Update TeamAbbreviation based on RowPosition\n",
    "merged.loc[merged[\"RowPosition\"] == 0, \"TeamAbbreviation\"] = merged[\"Team1\"]\n",
    "merged.loc[merged[\"RowPosition\"] == 1, \"TeamAbbreviation\"] = merged[\"Team2\"]\n",
    "\n",
    "# Add column for winner\n",
    "merged[\"Winner1\"] = merged[\"TeamAbbreviation\"] == merged[\"Winner\"]\n",
    "\n",
    "# Drop unnecessary columns like Team1, Team2, and RowPosition\n",
    "team_compositions = merged[[\"GameID\", \"TeamAbbreviation\", \"Agent\", \"Winner1\"]]\n",
    "\n",
    "\n",
    "print(team_compositions.head(10))\n",
    "print(teams[teams['GameID'] == '10004'])\n",
    "print(len(team_compositions.index.get_level_values(0).unique()) / 2)\n",
    "print(len(teams['GameID']))"
   ],
   "id": "2b1b172fcb5a4cb9",
   "outputs": [
    {
     "name": "stdout",
     "output_type": "stream",
     "text": [
      "  GameID   TeamAbbreviation                                  Agent  Winner1\n",
      "0  10003       Bren Esports    {phoenix, omen, sova, cypher, raze}    False\n",
      "1  10003  Attack All Around      {reyna, omen, sova, cypher, raze}     True\n",
      "2  10004       Bren Esports      {reyna, omen, sova, cypher, jett}     True\n",
      "3  10004  Attack All Around     {killjoy, reyna, omen, sova, jett}    False\n",
      "4  10005       Bren Esports     {omen, cypher, jett, raze, breach}    False\n",
      "5  10005  Attack All Around    {killjoy, omen, jett, raze, breach}     True\n",
      "6  10006             HSDIRR     {phoenix, omen, viper, raze, sage}     True\n",
      "7  10006           MJAOMODE  {killjoy, phoenix, omen, viper, raze}    False\n",
      "8  10007             HSDIRR     {phoenix, omen, viper, jett, sage}    False\n",
      "9  10007           MJAOMODE  {killjoy, phoenix, omen, viper, raze}     True\n",
      "      GameID         Team1              Team2        Winner\n",
      "12733  10004  Bren Esports  Attack All Around  Bren Esports\n",
      "14771.0\n",
      "15878\n"
     ]
    }
   ],
   "execution_count": 94
  },
  {
   "metadata": {
    "ExecuteTime": {
     "end_time": "2025-05-17T01:54:50.861927Z",
     "start_time": "2025-05-17T01:54:49.526824Z"
    }
   },
   "cell_type": "code",
   "source": [
    "# Part 1 goal:\n",
    "# Find the chance of a chosen combination of agents winning\n",
    "# against another combination of agents. First step will be\n",
    "# finding overall win rate for a combination of agents.\n",
    "\n",
    "wins = games['Winner']\n",
    "wins.index = games['GameID']\n",
    "print(wins.head())\n",
    "\n",
    "team_compositions = pd.pivot_table(\n",
    "    scoreboard,\n",
    "    values='Agent',  # The column containing the agents\n",
    "    index=['GameID', 'TeamAbbreviation'],  # Rows will be grouped by GameID and TeamID\n",
    "    aggfunc=lambda x: set(x)  # Combine agent names into a set for each team\n",
    ")\n",
    "team_compositions.index = team_compositions.index.set_levels(\n",
    "    team_compositions.index.levels[0].astype(int), level='GameID'\n",
    ")\n",
    "\n",
    "print(team_compositions.head())\n",
    "print(team_compositions.loc[60903])\n",
    "#print(wins.iloc[10003], wins.iloc[10004])\n",
    "\n",
    "# Team1 is top TeamAbb, Team2 is bottom"
   ],
   "id": "74d021d75f32aced",
   "outputs": [
    {
     "name": "stdout",
     "output_type": "stream",
     "text": [
      "GameID\n",
      "60894    Booster Seat Gaming\n",
      "60895               Pho Real\n",
      "60896    Booster Seat Gaming\n",
      "60924         Bjor's Kittens\n",
      "60925         Bjor's Kittens\n",
      "Name: Winner, dtype: object\n",
      "                                                       Agent\n",
      "GameID TeamAbbreviation                                     \n",
      "10003  AAA               {sova, raze, phoenix, cypher, omen}\n",
      "       BRN                 {sova, raze, cypher, reyna, omen}\n",
      "10004  AAA                 {sova, cypher, reyna, jett, omen}\n",
      "       BRN                {sova, reyna, jett, omen, killjoy}\n",
      "10005  AAA                {breach, raze, cypher, jett, omen}\n",
      "                                                 Agent\n",
      "TeamAbbreviation                                      \n",
      "RAD               {viper, astra, sova, reyna, chamber}\n",
      "same                {viper, sova, cypher, reyna, jett}\n"
     ]
    }
   ],
   "execution_count": 17
  },
  {
   "metadata": {
    "ExecuteTime": {
     "end_time": "2025-05-17T01:58:49.489339Z",
     "start_time": "2025-05-17T01:58:42.794232Z"
    }
   },
   "cell_type": "code",
   "source": [
    "team_comps_unique = []\n",
    "t = 0\n",
    "for i in team_compositions.index:\n",
    "    if team_compositions.loc[i]['Agent'] not in team_comps_unique:\n",
    "        team_comps_unique.append(team_compositions.loc[i]['Agent'])"
   ],
   "id": "1c82e9f15f3a3d17",
   "outputs": [],
   "execution_count": 20
  },
  {
   "metadata": {
    "ExecuteTime": {
     "end_time": "2025-05-17T03:54:59.786252Z",
     "start_time": "2025-05-17T03:54:59.725516Z"
    }
   },
   "cell_type": "code",
   "source": [
    "print(len(team_comps_unique))\n",
    "print(team_comps_unique[-1])\n",
    "\n",
    "# Initialize 'who_won' DataFrame based on the team_compositions index\n",
    "who_won = pd.DataFrame(index=['GameID', 'Team'], columns=[\"Winner\"], dtype=bool)\n",
    "who_won['Winner'] = True\n",
    "\n",
    "# Group the DataFrame by GameID\n",
    "grouped = who_won.groupby(level=\"GameID\")\n",
    "\n",
    "# Select the 0th row (first row in each group)\n",
    "first_row_idx = grouped.nth(0).index\n",
    "\n",
    "# Select the 1st row (second row in each group)\n",
    "second_row_idx = grouped.nth(1).index\n",
    "\n",
    "#who_won.loc[first_row_idx, \"Winner\"] = True if games[]\n",
    "\n",
    "# for _, row in games.iterrows():\n",
    "#     game_id = int(row[\"GameID\"])\n",
    "#     winner = row[\"Winner\"]\n",
    "#\n",
    "#     if len(who_won.loc[game_id]) < 2:\n",
    "#         who_won = who_won.drop(game_id)\n",
    "#         continue\n",
    "#     first_row = who_won.loc[game_id].iloc[0].name  # Abbreviation for Team1\n",
    "#\n",
    "#     second_row = who_won.loc[game_id].iloc[1].name  # Abbreviation for Team2\n",
    "#\n",
    "#     # Update the Winner column directly using index\n",
    "#     if row[\"Team1\"] == winner:  # Team1 won\n",
    "#         who_won.at[(game_id, first_row), \"Winner\"] = True\n",
    "#         who_won.at[(game_id, second_row), \"Winner\"] = False\n",
    "#     elif row[\"Team2\"] == winner:  # Team2 won\n",
    "#         who_won.at[(game_id, first_row), \"Winner\"] = False\n",
    "#         who_won.at[(game_id, second_row), \"Winner\"] = True\n",
    "\n",
    "\n",
    "#print(who_won.loc[57193])\n",
    "games[games['GameID'] == \"57193\"]"
   ],
   "id": "8474efdc925f56e4",
   "outputs": [
    {
     "name": "stdout",
     "output_type": "stream",
     "text": [
      "1456\n",
      "{'sage', 'raze', 'cypher', 'reyna', 'jett'}\n"
     ]
    },
    {
     "data": {
      "text/plain": [
       "     GameID MatchID  Map  Team1ID  Team2ID   Team1                   Team2  \\\n",
       "1375  57193   50407  TBD     6748     6737  ANYWAY  Claquettes cahussettes   \n",
       "\n",
       "      Winner  Team1_TotalRounds  Team2_TotalRounds  ... Team1_FullBuyWon  \\\n",
       "1375  ANYWAY                 13                  0  ...              NaN   \n",
       "\n",
       "     Team2_PistolWon  Team2_Eco  Team2_EcoWon  Team2_SemiEco  \\\n",
       "1375             NaN        NaN           NaN            NaN   \n",
       "\n",
       "      Team2_SemiEcoWon  Team2_SemiBuy  Team2_SemiBuyWon  Team2_FullBuy  \\\n",
       "1375               NaN            NaN               NaN            NaN   \n",
       "\n",
       "      Team2_FullBuyWon  \n",
       "1375               NaN  \n",
       "\n",
       "[1 rows x 36 columns]"
      ],
      "text/html": [
       "<div>\n",
       "<style scoped>\n",
       "    .dataframe tbody tr th:only-of-type {\n",
       "        vertical-align: middle;\n",
       "    }\n",
       "\n",
       "    .dataframe tbody tr th {\n",
       "        vertical-align: top;\n",
       "    }\n",
       "\n",
       "    .dataframe thead th {\n",
       "        text-align: right;\n",
       "    }\n",
       "</style>\n",
       "<table border=\"1\" class=\"dataframe\">\n",
       "  <thead>\n",
       "    <tr style=\"text-align: right;\">\n",
       "      <th></th>\n",
       "      <th>GameID</th>\n",
       "      <th>MatchID</th>\n",
       "      <th>Map</th>\n",
       "      <th>Team1ID</th>\n",
       "      <th>Team2ID</th>\n",
       "      <th>Team1</th>\n",
       "      <th>Team2</th>\n",
       "      <th>Winner</th>\n",
       "      <th>Team1_TotalRounds</th>\n",
       "      <th>Team2_TotalRounds</th>\n",
       "      <th>...</th>\n",
       "      <th>Team1_FullBuyWon</th>\n",
       "      <th>Team2_PistolWon</th>\n",
       "      <th>Team2_Eco</th>\n",
       "      <th>Team2_EcoWon</th>\n",
       "      <th>Team2_SemiEco</th>\n",
       "      <th>Team2_SemiEcoWon</th>\n",
       "      <th>Team2_SemiBuy</th>\n",
       "      <th>Team2_SemiBuyWon</th>\n",
       "      <th>Team2_FullBuy</th>\n",
       "      <th>Team2_FullBuyWon</th>\n",
       "    </tr>\n",
       "  </thead>\n",
       "  <tbody>\n",
       "    <tr>\n",
       "      <th>1375</th>\n",
       "      <td>57193</td>\n",
       "      <td>50407</td>\n",
       "      <td>TBD</td>\n",
       "      <td>6748</td>\n",
       "      <td>6737</td>\n",
       "      <td>ANYWAY</td>\n",
       "      <td>Claquettes cahussettes</td>\n",
       "      <td>ANYWAY</td>\n",
       "      <td>13</td>\n",
       "      <td>0</td>\n",
       "      <td>...</td>\n",
       "      <td>NaN</td>\n",
       "      <td>NaN</td>\n",
       "      <td>NaN</td>\n",
       "      <td>NaN</td>\n",
       "      <td>NaN</td>\n",
       "      <td>NaN</td>\n",
       "      <td>NaN</td>\n",
       "      <td>NaN</td>\n",
       "      <td>NaN</td>\n",
       "      <td>NaN</td>\n",
       "    </tr>\n",
       "  </tbody>\n",
       "</table>\n",
       "<p>1 rows × 36 columns</p>\n",
       "</div>"
      ]
     },
     "execution_count": 72,
     "metadata": {},
     "output_type": "execute_result"
    }
   ],
   "execution_count": 72
  },
  {
   "metadata": {
    "ExecuteTime": {
     "end_time": "2025-05-15T23:22:55.559698Z",
     "start_time": "2025-05-15T23:22:55.016701Z"
    }
   },
   "cell_type": "code",
   "source": [
    "agents = scoreboard['Agent'].unique()\n",
    "print(agents, len(agents))\n",
    "\n",
    "import pandas as pd\n",
    "\n",
    "# Example: Extract unique agents (already done earlier)\n",
    "agents = scoreboard['Agent'].unique()\n",
    "\n",
    "\n",
    "# Use team_compositions (teams with sets of agents) to create one-hot encoding\n",
    "def one_hot_encode_team_compositions(team_compositions, all_agents):\n",
    "    # 'all_agents' defines the feature space (columns)\n",
    "    encoded_data = []\n",
    "    team_index = []\n",
    "\n",
    "    for idx, agents_set in team_compositions.items():\n",
    "        # For each team composition, generate a binary array for all agents\n",
    "        encoded_row = [1 if agent in agents_set else 0 for agent in all_agents]\n",
    "        encoded_data.append(encoded_row)\n",
    "        team_index.append(idx)  # Keep track of MultiIndex values (GameID, TeamAbbreviation)\n",
    "\n",
    "    # Create a DataFrame with one-hot encoded rows, indexed by (GameID, TeamAbbreviation)\n",
    "    one_hot_df = pd.DataFrame(\n",
    "        encoded_data,\n",
    "        columns=all_agents,\n",
    "        index=pd.MultiIndex.from_tuples(team_index, names=team_compositions.index.names)\n",
    "    )\n",
    "    return one_hot_df\n",
    "\n",
    "\n",
    "# Apply the one-hot encoding function\n",
    "one_hot_team_comps = one_hot_encode_team_compositions(team_compositions['Agent'], agents)\n",
    "\n",
    "print(one_hot_team_comps.head())\n",
    "print(\"THIS IS IT ^^^\")\n",
    "\n",
    "# print(team_compositions.info())\n",
    "# print(one_hot_team_comps.info())"
   ],
   "id": "b4b538a9332721ee",
   "outputs": [
    {
     "name": "stdout",
     "output_type": "stream",
     "text": [
      "['jett' 'chamber' 'sova' 'viper' 'skye' 'astra' 'raze' 'sage' 'kayo'\n",
      " 'killjoy' 'reyna' 'cypher' 'breach' 'omen' 'brimstone' '' 'phoenix'\n",
      " 'yoru'] 18\n",
      "                         jett  chamber  sova  viper  skye  astra  raze  sage  \\\n",
      "GameID TeamAbbreviation                                                        \n",
      "10003  AAA                  0        0     1      0     0      0     1     0   \n",
      "       BRN                  0        0     1      0     0      0     1     0   \n",
      "10004  AAA                  1        0     1      0     0      0     0     0   \n",
      "       BRN                  1        0     1      0     0      0     0     0   \n",
      "10005  AAA                  1        0     0      0     0      0     1     0   \n",
      "\n",
      "                         kayo  killjoy  reyna  cypher  breach  omen  \\\n",
      "GameID TeamAbbreviation                                               \n",
      "10003  AAA                  0        0      0       1       0     1   \n",
      "       BRN                  0        0      1       1       0     1   \n",
      "10004  AAA                  0        0      1       1       0     1   \n",
      "       BRN                  0        1      1       0       0     1   \n",
      "10005  AAA                  0        0      0       1       1     1   \n",
      "\n",
      "                         brimstone     phoenix  yoru  \n",
      "GameID TeamAbbreviation                               \n",
      "10003  AAA                       0  0        1     0  \n",
      "       BRN                       0  0        0     0  \n",
      "10004  AAA                       0  0        0     0  \n",
      "       BRN                       0  0        0     0  \n",
      "10005  AAA                       0  0        0     0  \n",
      "THIS IS IT ^^^\n"
     ]
    }
   ],
   "execution_count": 67
  },
  {
   "metadata": {},
   "cell_type": "code",
   "outputs": [],
   "execution_count": null,
   "source": [
    "from sklearn.ensemble import GradientBoostingRegressor\n",
    "\n",
    "reg_model = GradientBoostingRegressor()\n",
    "reg_model.fit(X_train, y_train)\n"
   ],
   "id": "532c27a24f62f028"
  }
 ],
 "metadata": {
  "kernelspec": {
   "display_name": "Python 3",
   "language": "python",
   "name": "python3"
  },
  "language_info": {
   "codemirror_mode": {
    "name": "ipython",
    "version": 2
   },
   "file_extension": ".py",
   "mimetype": "text/x-python",
   "name": "python",
   "nbconvert_exporter": "python",
   "pygments_lexer": "ipython2",
   "version": "2.7.6"
  }
 },
 "nbformat": 4,
 "nbformat_minor": 5
}
